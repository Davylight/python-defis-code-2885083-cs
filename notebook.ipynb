{
  "cells": [
    {
      "cell_type": "markdown",
      "metadata": {
        "id": "MbZyA61s9QD4"
      },
      "source": [
        "# Réfléchir et résoudre : \"Growth and Learning\""
      ]
    },
    {
      "cell_type": "markdown",
      "metadata": {
        "id": "ZO0ACtV76HK1"
      },
      "source": [
        "## 1) Partir en croisade"
      ]
    },
    {
      "cell_type": "markdown",
      "metadata": {
        "id": "Jm9lOLE1_-jw"
      },
      "source": [
        "## 2) Se dissiper avec le brouillard anglais"
      ]
    },
    {
      "cell_type": "markdown",
      "metadata": {
        "id": "EB2Vpdz-mLUo"
      },
      "source": [
        "### Défi"
      ]
    },
    {
      "cell_type": "code",
      "metadata": {
        "id": "yvoO6Wxrc9NT"
      },
      "source": [
        "enigme = (\r\n",
        "  \"HSMKEWNPRHNPJNBKQTKUQCEWKDIQPTKQJJDMQXKDSLMQCSEWKTEWNPRHFLHEMQXKDSLHZKQTQPCI\"\r\n",
        "  \"LTHKZWKPDSLTKIWKZNPRSPJNBKHRTNHEJKCSPERTLMUJKRNAKQZWNHEJKQPCEWNHJJWKJOEWNPRH\"\r\n",
        "  \"ELTPSLEBSTEWKUKHEQPCQJZQDHJSSXSPEWKUTNRWEHNCKSBJNBKQJZQDHJSSXSPEWKJNRWEHNCKS\"\r\n",
        "  \"BJNBKNBJNBKHKKMHFSJJDTSEEKPEWKTKHHSMKEWNPRDSLAKBSTRSEEKPQPCEWQEHESJQLRWQPCHM\"\r\n",
        "  \"NJKQPCCQPIKQPCHNPRZWKPDSLTKBKKJNPRNPEWKCLMOHCSPEUKHNJJDIWLMOHFLHEOLTHKDSLTJN\"\r\n",
        "  \"OHQPCZWNHEJKEWQEHEWKEWNPRQPCQJZQDHJSSXSPEWKUTNRWEHNCKSBJNBKISMKSPQJZQDHJSSXS\"\r\n",
        "  \"PEWKTNRWEHNCKSBJNBKBSTJNBKNHVLNEKQUHLTCQPCCKQEWHEWKBNPQJZSTCDSLMLHEQJZQDHBQI\"\r\n",
        "  \"KEWKILTEQNPZNEWQUSZBSTRKEQUSLEDSLTHNPRNAKEWKQLCNKPIKQRTNPKPFSDNENEHDSLTJQHEI\"\r\n",
        "  \"WQPIKQPDWSZHSQJZQDHJSSXSPEWKUTNRWEHNCKSBCKQEWQFLHEUKBSTKDSLCTQZDSLTEKTMNPQJU\"\r\n",
        "  \"TKQEWJNBKHQONKIKSBHWNEZWKPDSLJSSXQENEJNBKHQJQLRWQPCCKQEWHQFSXKNEHETLKDSLJJHK\"\r\n",
        "  \"KNEHQJJQHWSZXKKOKMJQLRWNPQHDSLRSFLHETKMKMUKTEWQEEWKJQHEJQLRWNHSPDSLQPCQJZQDH\"\r\n",
        "  \"JSSXSPEWKUTNRWEHNCKSBJNBKQJZQDHJSSXSPEWKTNRWEHNCKSBJNBKIMSPUTNQPIWKKTLOQJZQD\"\r\n",
        "  \"HJSSXSPEWKUTNRWEHNCKSBJNBKQJZQDHJSSXSPEWKUTNRWEHNCKSBJNBKQJZQDHJSSXSPEWKUTNR\"\r\n",
        "  \"WEHNCKSBJNBKNMKQPZWQEWQAKDSLRSEESJSHKDSLXPSZDSLISMKBTSMPSEWNPRDSLTKRSNPRUQIX\"\r\n",
        "  \"ESPSEWNPRZWQEWQAKDSLJSHEPSEWNPRQJZQDHJSSXSPEWKTNRWEHNCKSBJNBKPSEWNPRZNJJISMK\"\r\n",
        "  \"BTSMPSEWNPRDQXPSZZWQEEWKDHQDIWKKTLODQSJCULRRQIMSPRNAKLHQRTNPQJZQDHJSSXSPEWKT\"\r\n",
        "  \"NRWEHNCKSBJNBKEWKTKDQQTKHKKNEHEWKKPCSBEWKBNJMNPINCKPEQJJDEWNHTKISTCHQAQNJQUJ\"\r\n",
        "  \"KNPEWKBSDKTQJZQDHJSSXSPEWKTNRWEHNCKSBJNBKHSMKSBLHRSEESJNAKQHZKJJDSLXPSZQJZQD\"\r\n",
        "  \"HJSSXSPEWKTNRWEHNCKSBJNBKZWSCSDSLEWNPXOQDHBSTQJJEWNHTLUUNHWQJZQDHJSSXSPEWKTN\"\r\n",
        "  \"RWEHNCKSBJNBKEWKDTKPSERSPPQMQXKEWKNTMSPKDUQIXDSLXPSZNESJCEWKMNHQNCESWNMUKTPN\"\r\n",
        "  \"KNHQNCEWKDJJPKAKTMQXKEWKNTMSPKDUQIX\"\r\n",
        ")\r\n",
        "frequence = \"EOTIALHSNRYFUGDWMKBCPVJQXZ\""
      ],
      "execution_count": null
    },
    {
      "cell_type": "markdown",
      "metadata": {
        "id": "JyJsgEEvmO44"
      },
      "source": [
        "### Solution"
      ]
    },
    {
      "cell_type": "markdown",
      "metadata": {
        "id": "wDWuxTjiEJKu"
      },
      "source": [
        "#### Comptage des occurrences"
      ]
    },
    {
      "cell_type": "code",
      "metadata": {
        "id": "ffxvp7gwd8JG"
      },
      "source": [
        "occurrences = [[lettre, 0] for lettre in \"ABCDEFGHIJKLMNOPQRSTUVWXYZ\"]\r\n",
        "for c in enigme:\r\n",
        "  occurrences[ord(c)-ord('A')][1] += 1\r\n",
        "occurrences"
      ],
      "execution_count": null,
      "outputs": []
    },
    {
      "cell_type": "markdown",
      "metadata": {
        "id": "JA6OhlooEQsy"
      },
      "source": [
        "#### Tri"
      ]
    },
    {
      "cell_type": "code",
      "metadata": {
        "id": "oYL6kX0PeKBN"
      },
      "source": [
        "classement = sorted(occurrences, key=lambda duo: duo[1], reverse=True)\r\n",
        "frequence_enigme = ''.join([duo[0] for duo in classement])\r\n",
        "print(frequence)\r\n",
        "print(frequence_enigme)"
      ],
      "execution_count": null,
      "outputs": []
    },
    {
      "cell_type": "markdown",
      "metadata": {
        "id": "szM7IcJKEWLk"
      },
      "source": [
        "#### Déchiffrement"
      ]
    },
    {
      "cell_type": "code",
      "metadata": {
        "id": "8gNQWHJ-HS4r"
      },
      "source": [
        "correspondance = dict(zip(frequence_enigme, frequence))\r\n",
        "correspondance"
      ],
      "execution_count": null,
      "outputs": []
    },
    {
      "cell_type": "code",
      "metadata": {
        "id": "kaz2sP7Vi4vF"
      },
      "source": [
        "''.join([correspondance[lettre] for lettre in enigme])"
      ],
      "execution_count": null,
      "outputs": []
    },
    {
      "cell_type": "markdown",
      "metadata": {
        "id": "22q1RQeJAAP4"
      },
      "source": [
        "## 3) Affiner sa recherche et son fromage"
      ]
    },
    {
      "cell_type": "markdown",
      "metadata": {
        "id": "01B_HwaAACiA"
      },
      "source": [
        "## 4) Imiter le perroquet"
      ]
    },
    {
      "cell_type": "markdown",
      "metadata": {
        "id": "U1wq0qXQ6LLj"
      },
      "source": [
        "# Combattre la routine : \"Fighting Each Other\""
      ]
    },
    {
      "cell_type": "markdown",
      "metadata": {
        "id": "EYHOS1yv6eyT"
      },
      "source": [
        "## 1) Nettoyer le \"for k\""
      ]
    },
    {
      "cell_type": "markdown",
      "metadata": {
        "id": "_FwKM6Df6hPy"
      },
      "source": [
        "## 2) Varier ses variables"
      ]
    },
    {
      "cell_type": "markdown",
      "metadata": {
        "id": "6xwMHZY-6smL"
      },
      "source": [
        "## 3) Adopter une drôle de démarche"
      ]
    },
    {
      "cell_type": "markdown",
      "metadata": {
        "id": "Z4DaiAa46w8L"
      },
      "source": [
        "# Intégrer l'existant : \"Live Organ Transplants\""
      ]
    },
    {
      "cell_type": "markdown",
      "metadata": {},
      "source": [
        "## 1) Réparer la machine qui fait \\\"Bing\\\""
      ]
    },
    {
      "cell_type": "markdown",
      "metadata": {
        "id": "NajPU3UNqjyn"
      },
      "source": [
        "## 2) Soigner ses arguments"
      ]
    },
    {
      "cell_type": "markdown",
      "metadata": {
        "id": "MLND-5kFqqjI"
      },
      "source": [
        "## 3) Cerner la souris et son problème"
      ]
    },
    {
      "cell_type": "markdown",
      "metadata": {
        "id": "ZXpDQr_g7JT7"
      },
      "source": [
        "# Éprouver votre endurance : \"The Autumn Years\""
      ]
    },
    {
      "cell_type": "markdown",
      "metadata": {
        "id": "VKJUGrd3BGv_"
      },
      "source": [
        "## 1) Dépouiller les votes"
      ]
    },
    {
      "cell_type": "markdown",
      "metadata": {
        "id": "SA0rIZ70Hvoe"
      },
      "source": [
        "## 2) Prendre le dessus"
      ]
    },
    {
      "cell_type": "markdown",
      "metadata": {},
      "source": [
        "## 3) Appréhender le pire défi Python"
      ]
    }
  ],
  "metadata": {
    "colab": {
      "collapsed_sections": [
        "-Vatf6FjoOI1",
        "M-dCDr0twu_p",
        "XWzopJmxKbu0",
        "J1DBepVJvbzQ",
        "MLND-5kFqqjI"
      ],
      "name": "Défis de code Python.ipynb",
      "provenance": []
    },
    "kernelspec": {
      "display_name": "Python 3.10.4 64-bit",
      "language": "python",
      "name": "python3"
    },
    "language_info": {
      "name": "python",
      "version": "3.10.4"
    },
    "vscode": {
      "interpreter": {
        "hash": "4f946df053fbf2b937619d3c5458e7af74262f9a954d8797ba0b27400bcafe06"
      }
    }
  },
  "nbformat": 4,
  "nbformat_minor": 0
}