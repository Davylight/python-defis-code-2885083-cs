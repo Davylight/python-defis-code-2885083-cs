{
  "cells": [
    {
      "cell_type": "markdown",
      "metadata": {
        "id": "MbZyA61s9QD4"
      },
      "source": [
        "# Réfléchir et résoudre : \"Growth and Learning\""
      ]
    },
    {
      "cell_type": "markdown",
      "metadata": {
        "id": "U1wq0qXQ6LLj"
      },
      "source": [
        "# Combattre la routine : \"Fighting Each Other\""
      ]
    },
    {
      "cell_type": "markdown",
      "metadata": {
        "id": "EYHOS1yv6eyT"
      },
      "source": [
        "## 1) Nettoyer le \"for k\""
      ]
    },
    {
      "cell_type": "markdown",
      "metadata": {
        "id": "_FwKM6Df6hPy"
      },
      "source": [
        "## 2) Varier ses variables"
      ]
    },
    {
      "cell_type": "markdown",
      "metadata": {
        "id": "XWzopJmxKbu0"
      },
      "source": [
        "### Défi"
      ]
    },
    {
      "cell_type": "code",
      "metadata": {
        "id": "wAV1s17-KlcG"
      },
      "source": [
        "import random\r\n",
        "\r\n",
        "def spam_co(spam_elpo, r):\r\n",
        "  x0, y0 = spam_elpo\r\n",
        "  for y in range(0, spam_ra['h']):\r\n",
        "    for x in range(0, spam_ra['l']):\r\n",
        "      dx, dy = x - x0, y - y0\r\n",
        "      if dx*dx/4 + dy*dy < r*r:\r\n",
        "        spam_uc[y][x] = spam_re[spam_uc[y][x]]\r\n",
        "\r\n",
        "def spam_op(d):\r\n",
        "  return random.randrange(spam_ra[d])\r\n",
        "\r\n",
        "spam_ton = ' .-=+*#%@@'\r\n",
        "spam_re = { spam_ton[i-1]: spam_ton[i] for i in range(1, len(spam_ton)) }\r\n",
        "spam_ra = { 'l':200, 'h':30, 'R': 11, 'r':2, 'n': 7 }\r\n",
        "spam_le = [ ]\r\n",
        "spam_uc = [ ]\r\n",
        "\r\n",
        "for i in range(spam_ra['h']):\r\n",
        "  spam_uc.append([ ' ' for i in range(spam_ra['l'])])\r\n",
        "\r\n",
        "for i in range(spam_ra['n']):\r\n",
        "  spam_le.append((spam_op('l'), spam_op('h')))\r\n",
        "\r\n",
        "for l in spam_le:\r\n",
        "  for r in range(1, spam_ra['R'], spam_ra['r']):\r\n",
        "    spam_co(l, r)\r\n",
        "\r\n",
        "for l in spam_uc:\r\n",
        "  print(''.join(l))\r\n",
        "  "
      ],
      "execution_count": null
    },
    {
      "cell_type": "markdown",
      "metadata": {
        "id": "6xwMHZY-6smL"
      },
      "source": [
        "## 3) Adopter une drôle de démarche"
      ]
    },
    {
      "cell_type": "markdown",
      "metadata": {
        "id": "Z4DaiAa46w8L"
      },
      "source": [
        "# Intégrer l'existant : \"Live Organ Transplants\""
      ]
    },
    {
      "cell_type": "markdown",
      "metadata": {},
      "source": [
        "## 1) Réparer la machine qui fait \\\"Bing\\\""
      ]
    },
    {
      "cell_type": "markdown",
      "metadata": {
        "id": "NajPU3UNqjyn"
      },
      "source": [
        "## 2) Soigner ses arguments"
      ]
    },
    {
      "cell_type": "markdown",
      "metadata": {
        "id": "MLND-5kFqqjI"
      },
      "source": [
        "## 3) Cerner la souris et son problème"
      ]
    },
    {
      "cell_type": "markdown",
      "metadata": {
        "id": "ZXpDQr_g7JT7"
      },
      "source": [
        "# Éprouver votre endurance : \"The Autumn Years\""
      ]
    },
    {
      "cell_type": "markdown",
      "metadata": {
        "id": "VKJUGrd3BGv_"
      },
      "source": [
        "## 1) Dépouiller les votes"
      ]
    },
    {
      "cell_type": "markdown",
      "metadata": {
        "id": "SA0rIZ70Hvoe"
      },
      "source": [
        "## 2) Prendre le dessus"
      ]
    },
    {
      "cell_type": "markdown",
      "metadata": {},
      "source": [
        "## 3) Appréhender le pire défi Python"
      ]
    }
  ],
  "metadata": {
    "colab": {
      "collapsed_sections": [
        "-Vatf6FjoOI1",
        "M-dCDr0twu_p",
        "XWzopJmxKbu0",
        "J1DBepVJvbzQ",
        "MLND-5kFqqjI"
      ],
      "name": "Défis de code Python.ipynb",
      "provenance": []
    },
    "kernelspec": {
      "display_name": "Python 3.10.4 64-bit",
      "language": "python",
      "name": "python3"
    },
    "language_info": {
      "name": "python",
      "version": "3.10.4"
    },
    "vscode": {
      "interpreter": {
        "hash": "4f946df053fbf2b937619d3c5458e7af74262f9a954d8797ba0b27400bcafe06"
      }
    }
  },
  "nbformat": 4,
  "nbformat_minor": 0
}
