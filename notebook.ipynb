{
  "cells": [
    {
      "cell_type": "markdown",
      "metadata": {
        "id": "MbZyA61s9QD4"
      },
      "source": [
        "# Réfléchir et résoudre : \"Growth and Learning\""
      ]
    },
    {
      "cell_type": "markdown",
      "metadata": {
        "id": "ZO0ACtV76HK1"
      },
      "source": [
        "## 1) Partir en croisade"
      ]
    },
    {
      "cell_type": "markdown",
      "metadata": {
        "id": "Jm9lOLE1_-jw"
      },
      "source": [
        "## 2) Se dissiper avec le brouillard anglais"
      ]
    },
    {
      "cell_type": "markdown",
      "metadata": {
        "id": "22q1RQeJAAP4"
      },
      "source": [
        "## 3) Affiner sa recherche et son fromage"
      ]
    },
    {
      "cell_type": "markdown",
      "metadata": {
        "id": "01B_HwaAACiA"
      },
      "source": [
        "## 4) Imiter le perroquet"
      ]
    },
    {
      "cell_type": "markdown",
      "metadata": {
        "id": "M-dCDr0twu_p"
      },
      "source": [
        "### Défi"
      ]
    },
    {
      "cell_type": "code",
      "metadata": {
        "id": "AGwUpLuwAENX"
      },
      "source": [
        "def perroquet(phrase, max_syllabes):\r\n",
        "  '''\r\n",
        "  >>> perroquet(\"Et maintenant quelque chose de complètement différent\", 4)\r\n",
        "  différent\r\n",
        "  >>> perroquet(\"Snap snap, grin grin, wink wink, nudge nudge\", 4)\r\n",
        "  wink wink, nudge nudge\r\n",
        "  >>> perroquet(\"Se défendre en cas d'attaque avec des fruits frais\", 4)\r\n",
        "  des fruits frais\r\n",
        "  >>> perroquet(\"Que font-ils dans mon estomac ? Aucune idée, ils paient un loyer ?\", 4)\r\n",
        "  paient un loyer\r\n",
        "  >>> perroquet(\"Python\", 4)\r\n",
        "  Python\r\n",
        "  >>> perroquet(\"Python\", 1)\r\n",
        "  \"\"\r\n",
        "  '''\r\n",
        "  return 'argh'"
      ],
      "execution_count": null
    },
    {
      "cell_type": "code",
      "metadata": {
        "id": "6FtgAfaLyGKs",
        "outputId": "9a2b7778-2821-47d3-96ae-286397070ef2"
      },
      "source": [
        "import doctest\r\n",
        "doctest.run_docstring_examples(perroquet, globals())"
      ],
      "execution_count": null
    },
    {
      "cell_type": "markdown",
      "metadata": {
        "id": "8AzdnY9j1Bbj"
      },
      "source": [
        "### Solution"
      ]
    },
    {
      "cell_type": "code",
      "metadata": {
        "id": "4tMhKKjO1EZi"
      },
      "source": [
        "from enum import Enum\r\n",
        "\r\n",
        "voyelles = \"aâeéêèioôu\"\r\n",
        "espaces = \" \\t\\n\\r?!,.:;^\"\r\n",
        "\r\n",
        "def perroquet(phrase_init, max_syllabes):\r\n",
        "  '''\r\n",
        "  >>> perroquet(\"Et maintenant quelque chose de complètement différent\", 4)\r\n",
        "  'différent'\r\n",
        "  >>> perroquet(\"Snap snap, grin grin, wink wink, nudge nudge\", 4)\r\n",
        "  'wink wink, nudge nudge'\r\n",
        "  >>> perroquet(\"Se défendre en cas d'attaque avec des fruits frais\", 4)\r\n",
        "  'des fruits frais'\r\n",
        "  >>> perroquet(\"Que font-ils dans mon estomac ? Aucune idée, au moins, ils paient un loyer ?\", 4)\r\n",
        "  'paient un loyer ?'\r\n",
        "  >>> perroquet(\"Grenouilles croquantes glacées au glucose\", 7)\r\n",
        "  'croquantes glacées au glucose'\r\n",
        "  >>> perroquet(\"Python\", 4)\r\n",
        "  'Python'\r\n",
        "  >>> perroquet(\"Python\", 1)\r\n",
        "  ''\r\n",
        "  '''\r\n",
        "  phrase = '^'+phrase_init.lower()\r\n",
        "  etat = etat_intervalle\r\n",
        "  debut = len(phrase)\r\n",
        "  syllabes = 0\r\n",
        "  for indice in reversed(range(len(phrase))):\r\n",
        "    etat, inc, debut_mot = etat(phrase[indice])\r\n",
        "    syllabes += inc\r\n",
        "    if syllabes > max_syllabes:\r\n",
        "      break\r\n",
        "    if debut_mot:\r\n",
        "      debut = indice + 1\r\n",
        "\r\n",
        "  return phrase_init[debut-1:]\r\n",
        "\r\n",
        "def etat_intervalle(lettre):\r\n",
        "  return (etat_pluriel_emuet, 0, False) if lettre=='s' \\\r\n",
        "    else traiter_mot(lettre, False)\r\n",
        "  \r\n",
        "def etat_voyelles(lettre):\r\n",
        "  return traiter_lettre(lettre, 0, True)\r\n",
        "\r\n",
        "def etat_consonnes(lettre):\r\n",
        "  return traiter_lettre_consonne(lettre, True)\r\n",
        "\r\n",
        "def etat_pluriel_emuet(lettre):\r\n",
        "  return traiter_mot(lettre, False)\r\n",
        "\r\n",
        "def etat_emuet(lettre):\r\n",
        "  return (etat_voyelles  , 1, False) if lettre in voyelles \\\r\n",
        "    else (etat_intervalle, 1, True ) if lettre in espaces \\\r\n",
        "    else (etat_emuet     , 0, False)\r\n",
        "\r\n",
        "def traiter_lettre(lettre, inc_voyelle, mot):\r\n",
        "  return (etat_voyelles  , inc_voyelle, False) if lettre in voyelles \\\r\n",
        "    else (etat_intervalle,           0, mot  ) if lettre in espaces \\\r\n",
        "    else (etat_consonnes ,           0, False)\r\n",
        "\r\n",
        "def traiter_lettre_consonne(lettre, mot):\r\n",
        "  return (etat_voyelles, 1, False) if lettre=='y' \\\r\n",
        "    else traiter_lettre(lettre, 1, mot)\r\n",
        "\r\n",
        "def traiter_mot(lettre, mot):\r\n",
        "  return (etat_emuet, 0, False) if lettre == 'e' \\\r\n",
        "    else traiter_lettre_consonne(lettre, mot)\r\n",
        "\r\n",
        "import doctest\r\n",
        "doctest.run_docstring_examples(perroquet, globals())"
      ],
      "execution_count": null,
      "outputs": []
    },
    {
      "cell_type": "markdown",
      "metadata": {
        "id": "U1wq0qXQ6LLj"
      },
      "source": [
        "# Combattre la routine : \"Fighting Each Other\""
      ]
    },
    {
      "cell_type": "markdown",
      "metadata": {
        "id": "EYHOS1yv6eyT"
      },
      "source": [
        "## 1) Nettoyer le \"for k\""
      ]
    },
    {
      "cell_type": "markdown",
      "metadata": {
        "id": "_FwKM6Df6hPy"
      },
      "source": [
        "## 2) Varier ses variables"
      ]
    },
    {
      "cell_type": "markdown",
      "metadata": {
        "id": "6xwMHZY-6smL"
      },
      "source": [
        "## 3) Adopter une drôle de démarche"
      ]
    },
    {
      "cell_type": "markdown",
      "metadata": {
        "id": "Z4DaiAa46w8L"
      },
      "source": [
        "# Intégrer l'existant : \"Live Organ Transplants\""
      ]
    },
    {
      "cell_type": "markdown",
      "metadata": {},
      "source": [
        "## 1) Réparer la machine qui fait \\\"Bing\\\""
      ]
    },
    {
      "cell_type": "markdown",
      "metadata": {
        "id": "NajPU3UNqjyn"
      },
      "source": [
        "## 2) Soigner ses arguments"
      ]
    },
    {
      "cell_type": "markdown",
      "metadata": {
        "id": "MLND-5kFqqjI"
      },
      "source": [
        "## 3) Cerner la souris et son problème"
      ]
    },
    {
      "cell_type": "markdown",
      "metadata": {
        "id": "ZXpDQr_g7JT7"
      },
      "source": [
        "# Éprouver votre endurance : \"The Autumn Years\""
      ]
    },
    {
      "cell_type": "markdown",
      "metadata": {
        "id": "VKJUGrd3BGv_"
      },
      "source": [
        "## 1) Dépouiller les votes"
      ]
    },
    {
      "cell_type": "markdown",
      "metadata": {
        "id": "SA0rIZ70Hvoe"
      },
      "source": [
        "## 2) Prendre le dessus"
      ]
    },
    {
      "cell_type": "markdown",
      "metadata": {},
      "source": [
        "## 3) Appréhender le pire défi Python"
      ]
    }
  ],
  "metadata": {
    "colab": {
      "collapsed_sections": [
        "-Vatf6FjoOI1",
        "M-dCDr0twu_p",
        "XWzopJmxKbu0",
        "J1DBepVJvbzQ",
        "MLND-5kFqqjI"
      ],
      "name": "Défis de code Python.ipynb",
      "provenance": []
    },
    "kernelspec": {
      "display_name": "Python 3.10.4 64-bit",
      "language": "python",
      "name": "python3"
    },
    "language_info": {
      "name": "python",
      "version": "3.10.4"
    },
    "vscode": {
      "interpreter": {
        "hash": "4f946df053fbf2b937619d3c5458e7af74262f9a954d8797ba0b27400bcafe06"
      }
    }
  },
  "nbformat": 4,
  "nbformat_minor": 0
}
