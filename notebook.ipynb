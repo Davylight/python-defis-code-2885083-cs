{
  "cells": [
    {
      "cell_type": "markdown",
      "metadata": {
        "id": "MbZyA61s9QD4"
      },
      "source": [
        "# Réfléchir et résoudre : \"Growth and Learning\""
      ]
    },
    {
      "cell_type": "markdown",
      "metadata": {
        "id": "U1wq0qXQ6LLj"
      },
      "source": [
        "# Combattre la routine : \"Fighting Each Other\""
      ]
    },
    {
      "cell_type": "markdown",
      "metadata": {
        "id": "EYHOS1yv6eyT"
      },
      "source": [
        "## 1) Nettoyer le \"for k\""
      ]
    },
    {
      "cell_type": "markdown",
      "metadata": {
        "id": "_FwKM6Df6hPy"
      },
      "source": [
        "## 2) Varier ses variables"
      ]
    },
    {
      "cell_type": "markdown",
      "metadata": {
        "id": "6xwMHZY-6smL"
      },
      "source": [
        "## 3) Adopter une drôle de démarche"
      ]
    },
    {
      "cell_type": "markdown",
      "metadata": {
        "id": "Pl2ZMdPtw6g9"
      },
      "source": [
        "### Défi"
      ]
    },
    {
      "cell_type": "code",
      "metadata": {
        "id": "DVOcea1WwhY2"
      },
      "source": [
        "TAILLE = 8\r\n",
        "\r\n",
        "def cavalier(trajet):\r\n",
        "  '''\r\n",
        "  >>> cavalier('x4')\r\n",
        "  False\r\n",
        "  >>> cavalier('a9')\r\n",
        "  False\r\n",
        "  >>> cavalier('d4')\r\n",
        "  True\r\n",
        "  >>> cavalier('d4 d5')\r\n",
        "  False\r\n",
        "  >>> cavalier('d4 c6')\r\n",
        "  True\r\n",
        "  >>> cavalier('d4 c6 d4')\r\n",
        "  False\r\n",
        "  >>> cavalier('d4 c6 b4 d3 e5')\r\n",
        "  True\r\n",
        "  '''\r\n",
        "  echec = [([False] * TAILLE).copy() for i in range(TAILLE)]\r\n",
        "  cases = trajet.split(' ')\r\n",
        "  prec = extraire(echec, cases)\r\n",
        "  while prec and cases:\r\n",
        "    prec = extraire(echec, cases, prec)\r\n",
        "  return prec!=()\r\n",
        "\r\n",
        "def position_valide(pos):\r\n",
        "  return 'a' <= pos[0] <= 'h' and '1' <= pos[1] <= '8'\r\n",
        "\r\n",
        "def coordonnees(pos):\r\n",
        "  return (ord(pos[0])-ord('a'), ord(pos[1])-ord('1'))\r\n",
        "\r\n",
        "def extraire(echec, cases, prec=()):\r\n",
        "  case = cases.pop(0)\r\n",
        "  if not position_valide(case):\r\n",
        "    return ()\r\n",
        "  (x, y) = coordonnees(case)\r\n",
        "  if echec[x][y] or prec and abs((prec[0]-x)*(prec[1]-y))!=2:\r\n",
        "    return ()\r\n",
        "  echec[x][y] = True\r\n",
        "  return (x, y)\r\n",
        "\r\n",
        "import doctest\r\n",
        "doctest.run_docstring_examples(cavalier, globals())"
      ],
      "execution_count": null,
      "outputs": []
    },
    {
      "cell_type": "markdown",
      "metadata": {
        "id": "Z4DaiAa46w8L"
      },
      "source": [
        "# Intégrer l'existant : \"Live Organ Transplants\""
      ]
    },
    {
      "cell_type": "markdown",
      "metadata": {},
      "source": [
        "## 1) Réparer la machine qui fait \\\"Bing\\\""
      ]
    },
    {
      "cell_type": "markdown",
      "metadata": {
        "id": "NajPU3UNqjyn"
      },
      "source": [
        "## 2) Soigner ses arguments"
      ]
    },
    {
      "cell_type": "markdown",
      "metadata": {
        "id": "MLND-5kFqqjI"
      },
      "source": [
        "## 3) Cerner la souris et son problème"
      ]
    },
    {
      "cell_type": "markdown",
      "metadata": {
        "id": "ZXpDQr_g7JT7"
      },
      "source": [
        "# Éprouver votre endurance : \"The Autumn Years\""
      ]
    },
    {
      "cell_type": "markdown",
      "metadata": {
        "id": "VKJUGrd3BGv_"
      },
      "source": [
        "## 1) Dépouiller les votes"
      ]
    },
    {
      "cell_type": "markdown",
      "metadata": {
        "id": "SA0rIZ70Hvoe"
      },
      "source": [
        "## 2) Prendre le dessus"
      ]
    },
    {
      "cell_type": "markdown",
      "metadata": {},
      "source": [
        "## 3) Appréhender le pire défi Python"
      ]
    }
  ],
  "metadata": {
    "colab": {
      "collapsed_sections": [
        "-Vatf6FjoOI1",
        "M-dCDr0twu_p",
        "XWzopJmxKbu0",
        "J1DBepVJvbzQ",
        "MLND-5kFqqjI"
      ],
      "name": "Défis de code Python.ipynb",
      "provenance": []
    },
    "kernelspec": {
      "display_name": "Python 3.10.4 64-bit",
      "language": "python",
      "name": "python3"
    },
    "language_info": {
      "name": "python",
      "version": "3.10.4"
    },
    "vscode": {
      "interpreter": {
        "hash": "4f946df053fbf2b937619d3c5458e7af74262f9a954d8797ba0b27400bcafe06"
      }
    }
  },
  "nbformat": 4,
  "nbformat_minor": 0
}
