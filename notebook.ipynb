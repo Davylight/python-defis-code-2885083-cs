{
  "cells": [
    {
      "cell_type": "markdown",
      "metadata": {
        "id": "MbZyA61s9QD4"
      },
      "source": [
        "# Réfléchir et résoudre : \"Growth and Learning\""
      ]
    },
    {
      "cell_type": "markdown",
      "metadata": {
        "id": "U1wq0qXQ6LLj"
      },
      "source": [
        "# Combattre la routine : \"Fighting Each Other\""
      ]
    },
    {
      "cell_type": "markdown",
      "metadata": {
        "id": "EYHOS1yv6eyT"
      },
      "source": [
        "## 1) Nettoyer le \"for k\""
      ]
    },
    {
      "cell_type": "markdown",
      "metadata": {
        "id": "lUmQ093EwzoB"
      },
      "source": [
        "### Défi"
      ]
    },
    {
      "cell_type": "code",
      "metadata": {
        "id": "G5zwdMJDnSLD"
      },
      "source": [
        "personnages = [\r\n",
        "  \"Client-e\", \r\n",
        "  \"Maître-sse d'hôtel\", \r\n",
        "  \"Chef-fe\",\r\n",
        "  \"Serveuse/serveur\", \r\n",
        "]\r\n",
        "etapes = [\r\n",
        "  [ [  0, \"Se présenter\" ],\r\n",
        "    [  3, \"Choisir\" ],\r\n",
        "    [  5, \"Signaler une fourchette sale\" ],\r\n",
        "    [  9, \"Donner son choix\" ],\r\n",
        "    [ 14, \"Manger\" ],\r\n",
        "    [ 16, \"Demander l'addition\" ],\r\n",
        "    [ 18, \"Payer\" ],\r\n",
        "    [ 19, \"Partir\" ]\r\n",
        "  ],\r\n",
        "  [ [  1, \"Conduire à la table\" ],\r\n",
        "    [  2, \"Donner une carte\" ],\r\n",
        "    [  4, \"Renseigner le client\" ],\r\n",
        "    [  6, \"S'excuser \" ],\r\n",
        "    [  7, \"Remplacer par une fourchette propre\" ],\r\n",
        "    [  8, \"Commencer la prise de commande\" ],\r\n",
        "    [ 10, \"Transmettre en cuisine\" ],\r\n",
        "    [ 17, \"Amener l'addition\" ]\r\n",
        "  ],\r\n",
        "  [ [ 11, \"Préparer les plats\" ],\r\n",
        "    [ 12, \"Indiquer la disponibilité\" ]\r\n",
        "  ],\r\n",
        "  [ [ 13, \"Servir le plat\" ],\r\n",
        "    [ 15, \"Débarrasser\" ]\r\n",
        "  ],\r\n",
        "]"
      ],
      "execution_count": null,
      "outputs": []
    },
    {
      "cell_type": "code",
      "metadata": {
        "id": "RkxMhOgZrNSj",
        "outputId": "c341dbef-74dc-4fb5-b4e3-0249532632db"
      },
      "source": [
        "iterations = 0\r\n",
        "i = 0\r\n",
        "j = 0\r\n",
        "while i < 20:\r\n",
        "  for k in range(len(etapes[j])):\r\n",
        "    iterations += 1\r\n",
        "    etape, action = etapes[j][k]\r\n",
        "    if etape < i:\r\n",
        "      continue\r\n",
        "    if etape > i:\r\n",
        "      break\r\n",
        "    print(i+1, personnages[j], ':', action)\r\n",
        "    i += 1\r\n",
        "  j = (j + 1) % len(personnages)\r\n",
        "\r\n",
        "print()\r\n",
        "print(iterations, \"itérations\")"
      ],
      "execution_count": null
    },
    {
      "cell_type": "markdown",
      "metadata": {
        "id": "L9X0OmX-P0yx"
      },
      "source": [
        "### Solution"
      ]
    },
    {
      "cell_type": "code",
      "metadata": {
        "id": "5zum1xOhP2Ow",
        "outputId": "1399d787-fcfc-4171-991f-2cd28390b1a6"
      },
      "source": [
        "iterations = 0\r\n",
        "for i in range(0, 20):\r\n",
        "  for j in range(len(personnages)):\r\n",
        "    iterations += 1\r\n",
        "    if etapes[j] and etapes[j][0][0] == i:\r\n",
        "      etape, action = etapes[j].pop(0)\r\n",
        "      print(i+1, personnages[j], ':', action)\r\n",
        "      break\r\n",
        "\r\n",
        "print()\r\n",
        "print(iterations, 'itérations')"
      ],
      "execution_count": null
    },
    {
      "cell_type": "markdown",
      "metadata": {
        "id": "_FwKM6Df6hPy"
      },
      "source": [
        "## 2) Varier ses variables"
      ]
    },
    {
      "cell_type": "markdown",
      "metadata": {
        "id": "6xwMHZY-6smL"
      },
      "source": [
        "## 3) Adopter une drôle de démarche"
      ]
    },
    {
      "cell_type": "markdown",
      "metadata": {
        "id": "Z4DaiAa46w8L"
      },
      "source": [
        "# Intégrer l'existant : \"Live Organ Transplants\""
      ]
    },
    {
      "cell_type": "markdown",
      "metadata": {},
      "source": [
        "## 1) Réparer la machine qui fait \\\"Bing\\\""
      ]
    },
    {
      "cell_type": "markdown",
      "metadata": {
        "id": "NajPU3UNqjyn"
      },
      "source": [
        "## 2) Soigner ses arguments"
      ]
    },
    {
      "cell_type": "markdown",
      "metadata": {
        "id": "MLND-5kFqqjI"
      },
      "source": [
        "## 3) Cerner la souris et son problème"
      ]
    },
    {
      "cell_type": "markdown",
      "metadata": {
        "id": "ZXpDQr_g7JT7"
      },
      "source": [
        "# Éprouver votre endurance : \"The Autumn Years\""
      ]
    },
    {
      "cell_type": "markdown",
      "metadata": {
        "id": "VKJUGrd3BGv_"
      },
      "source": [
        "## 1) Dépouiller les votes"
      ]
    },
    {
      "cell_type": "markdown",
      "metadata": {
        "id": "SA0rIZ70Hvoe"
      },
      "source": [
        "## 2) Prendre le dessus"
      ]
    },
    {
      "cell_type": "markdown",
      "metadata": {},
      "source": [
        "## 3) Appréhender le pire défi Python"
      ]
    }
  ],
  "metadata": {
    "colab": {
      "collapsed_sections": [
        "-Vatf6FjoOI1",
        "M-dCDr0twu_p",
        "XWzopJmxKbu0",
        "J1DBepVJvbzQ",
        "MLND-5kFqqjI"
      ],
      "name": "Défis de code Python.ipynb",
      "provenance": []
    },
    "kernelspec": {
      "display_name": "Python 3.10.4 64-bit",
      "language": "python",
      "name": "python3"
    },
    "language_info": {
      "name": "python",
      "version": "3.10.4"
    },
    "vscode": {
      "interpreter": {
        "hash": "4f946df053fbf2b937619d3c5458e7af74262f9a954d8797ba0b27400bcafe06"
      }
    }
  },
  "nbformat": 4,
  "nbformat_minor": 0
}