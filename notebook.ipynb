{
  "cells": [
    {
      "cell_type": "markdown",
      "metadata": {
        "id": "MbZyA61s9QD4"
      },
      "source": [
        "# Réfléchir et résoudre : \"Growth and Learning\""
      ]
    },
    {
      "cell_type": "markdown",
      "metadata": {
        "id": "ZO0ACtV76HK1"
      },
      "source": [
        "## 1) Partir en croisade"
      ]
    },
    {
      "cell_type": "markdown",
      "metadata": {
        "id": "Jm9lOLE1_-jw"
      },
      "source": [
        "## 2) Se dissiper avec le brouillard anglais"
      ]
    },
    {
      "cell_type": "markdown",
      "metadata": {
        "id": "22q1RQeJAAP4"
      },
      "source": [
        "## 3) Affiner sa recherche et son fromage"
      ]
    },
    {
      "cell_type": "markdown",
      "metadata": {
        "id": "-Vatf6FjoOI1"
      },
      "source": [
        "### Défi"
      ]
    },
    {
      "cell_type": "code",
      "metadata": {
        "id": "_T5Y5rI-AFJn"
      },
      "source": [
        "fromages = {\r\n",
        "  \"France\": {\r\n",
        "    \"Brebis\": {\r\n",
        "      \"Fromage frais\": {\r\n",
        "        \"Brocciu\": 0\r\n",
        "      },\r\n",
        "      \"Pâte persillée\": { \r\n",
        "        \"Roquefort\": 0\r\n",
        "      },\r\n",
        "      \"Pâte pressée\": {\r\n",
        "        \"Non cuite\": { \r\n",
        "          \"Ossau-iraty\": 0\r\n",
        "        }\r\n",
        "      }\r\n",
        "    },\r\n",
        "  \t\"Chèvre\": {\r\n",
        "      \"Fromage frais\": {\r\n",
        "        \"Brocciu\": 0,\r\n",
        "        \"Brousse du Rove\": 0\r\n",
        "      },\r\n",
        "      \"Pâte molle\": {\r\n",
        "        \"Croûte fleurie\": {\r\n",
        "          \"Banon\": 0, \r\n",
        "          \"Rigotte de Condrieu\": 0\r\n",
        "        },\r\n",
        "        \"Croûte naturelle\": {\r\n",
        "          \"Chabichou du Poitou\": 0,\r\n",
        "          \"Charolais\": 0,\r\n",
        "          \"Crottin de Chavignol\": 0,\r\n",
        "          \"Mâconnais\": 0,\r\n",
        "          \"Pélardon\": 0,\r\n",
        "          \"Picodon\": 0,\r\n",
        "          \"Pouligny-saint-pierre\": 0,\r\n",
        "          \"Rocamadour\": 0,\r\n",
        "          \"Sainte-maure-de-touraine\": 0,\r\n",
        "          \"Selles-sur-cher\": 0,\r\n",
        "          \"Valençay\": 0\r\n",
        "        }\r\n",
        "      },\r\n",
        "      \"Pâte pressée\": {\r\n",
        "        \"Non cuite\": { \r\n",
        "          \"Chevrotin\": 0 \r\n",
        "        }\r\n",
        "      }\r\n",
        "    },\r\n",
        "    \"Vache\": {\r\n",
        "      \"Pâte molle\": { \r\n",
        "        \"Croûte fleurie\": {\t\r\n",
        "          \"Brie de Meaux\": 0,\r\n",
        "          \"Brie de Melun\": 0,\r\n",
        "          \"Camembert de Normandie\": 0,\r\n",
        "          \"Chaource\": 0,\r\n",
        "          \"Neufchâtel\": 0\r\n",
        "        },\r\n",
        "        \"Croûte lavée\": {\r\n",
        "          \"Époisses\": 0,\r\n",
        "          \"Langres\": 0,\r\n",
        "          \"Livarot\": 0,\r\n",
        "          \"Maroilles ou marolles\": 0,\r\n",
        "          \"Mont d'Or\": 0,\r\n",
        "          \"Munster\": 0,\r\n",
        "          \"Pont-l'évêque\": 0\r\n",
        "        }\r\n",
        "      },\r\n",
        "      \"Pâte persillée\": {\r\n",
        "        \"Bleu d'Auvergne\": 0,\r\n",
        "        \"Bleu de Gex\": 0,\r\n",
        "        \"Bleu des Causses\": 0,\r\n",
        "        \"Bleu du Vercors-Sassenage\": 0,\r\n",
        "        \"Fourme d'Ambert\": 0,\r\n",
        "        \"Fourme de Montbrison\": 0\r\n",
        "      },\r\n",
        "      \"Pâte pressée\": {\r\n",
        "        \"Cuite\": {\r\n",
        "          \"Abondance\": 0,\r\n",
        "          \"Beaufort\": 0,\r\n",
        "          \"Comté\": 0,\r\n",
        "        },\r\n",
        "        \"Non cuite\": {\t\r\n",
        "          \"Cantal\": 0,\r\n",
        "          \"Laguiole\": 0,\r\n",
        "          \"Morbier\": 0,\r\n",
        "          \"Reblochon\": 0,\r\n",
        "          \"Saint-nectaire\": 0,\r\n",
        "          \"Salers\": 0,\r\n",
        "          \"Tome des Bauges\": 0,\r\n",
        "        }\r\n",
        "      }\r\n",
        "    }\r\n",
        "  }\r\n",
        "}"
      ],
      "execution_count": null
    },
    {
      "cell_type": "code",
      "metadata": {
        "id": "Q6et4rnboy2h"
      },
      "source": [
        "def trouver(criteres):\r\n",
        "  '''\r\n",
        "  >>> trouver('')\r\n",
        "  47\r\n",
        "  >>> trouver('spam')\r\n",
        "  0\r\n",
        "  >>> trouver('Cantal')\r\n",
        "  1\r\n",
        "  >>> trouver('Pâte pressée')\r\n",
        "  12\r\n",
        "  >>> trouver('Pâte pressée, Spam')\r\n",
        "  0\r\n",
        "  >>> trouver('Non cuite, Vache')\r\n",
        "  7\r\n",
        "  >>> trouver('Vache, Non cuite')\r\n",
        "  7\r\n",
        "  '''\r\n",
        "  return -1\r\n",
        "\r\n",
        "import doctest\r\n",
        "doctest.run_docstring_examples(trouver, globals())"
      ],
      "execution_count": null
    },
    {
      "cell_type": "code",
      "metadata": {
        "id": "VPh8DzkuoLAW"
      },
      "source": [
        "def trouver(criteres):\r\n",
        "  '''\r\n",
        "  >>> trouver('')\r\n",
        "  47\r\n",
        "  >>> trouver('spam')\r\n",
        "  0\r\n",
        "  >>> trouver('Cantal')\r\n",
        "  1\r\n",
        "  >>> trouver('Pâte pressée')\r\n",
        "  12\r\n",
        "  >>> trouver('Pâte pressée, Spam')\r\n",
        "  0\r\n",
        "  >>> trouver('Non cuite, Vache')\r\n",
        "  7\r\n",
        "  >>> trouver('Vache, Non cuite')\r\n",
        "  7\r\n",
        "  '''\r\n",
        "  return trouver_rec(fromages, [] if not criteres else criteres.split(', '))\r\n",
        "\r\n",
        "def trouver_rec(noeud, criteres):\r\n",
        "  if isinstance(noeud, int):\r\n",
        "    return 0 if criteres else 1    \r\n",
        "  sous_criteres = []\r\n",
        "  enfants = []\r\n",
        "  for c in criteres:\r\n",
        "    if c in noeud:\r\n",
        "      enfants.append(noeud[c])\r\n",
        "    else:\r\n",
        "      sous_criteres.append(c)      \r\n",
        "  total = 0\r\n",
        "  for e in noeud.values() if not enfants else enfants:\r\n",
        "    total += trouver_rec(e, sous_criteres)      \r\n",
        "  return total\r\n",
        "\r\n",
        "import doctest\r\n",
        "doctest.run_docstring_examples(trouver, globals())"
      ],
      "execution_count": null
    },
    {
      "cell_type": "markdown",
      "metadata": {
        "id": "01B_HwaAACiA"
      },
      "source": [
        "## 4) Imiter le perroquet"
      ]
    },
    {
      "cell_type": "markdown",
      "metadata": {
        "id": "U1wq0qXQ6LLj"
      },
      "source": [
        "# Combattre la routine : \"Fighting Each Other\""
      ]
    },
    {
      "cell_type": "markdown",
      "metadata": {
        "id": "EYHOS1yv6eyT"
      },
      "source": [
        "## 1) Nettoyer le \"for k\""
      ]
    },
    {
      "cell_type": "markdown",
      "metadata": {
        "id": "_FwKM6Df6hPy"
      },
      "source": [
        "## 2) Varier ses variables"
      ]
    },
    {
      "cell_type": "markdown",
      "metadata": {
        "id": "6xwMHZY-6smL"
      },
      "source": [
        "## 3) Adopter une drôle de démarche"
      ]
    },
    {
      "cell_type": "markdown",
      "metadata": {
        "id": "Z4DaiAa46w8L"
      },
      "source": [
        "# Intégrer l'existant : \"Live Organ Transplants\""
      ]
    },
    {
      "cell_type": "markdown",
      "metadata": {},
      "source": [
        "## 1) Réparer la machine qui fait \\\"Bing\\\""
      ]
    },
    {
      "cell_type": "markdown",
      "metadata": {
        "id": "NajPU3UNqjyn"
      },
      "source": [
        "## 2) Soigner ses arguments"
      ]
    },
    {
      "cell_type": "markdown",
      "metadata": {
        "id": "MLND-5kFqqjI"
      },
      "source": [
        "## 3) Cerner la souris et son problème"
      ]
    },
    {
      "cell_type": "markdown",
      "metadata": {
        "id": "ZXpDQr_g7JT7"
      },
      "source": [
        "# Éprouver votre endurance : \"The Autumn Years\""
      ]
    },
    {
      "cell_type": "markdown",
      "metadata": {
        "id": "VKJUGrd3BGv_"
      },
      "source": [
        "## 1) Dépouiller les votes"
      ]
    },
    {
      "cell_type": "markdown",
      "metadata": {
        "id": "SA0rIZ70Hvoe"
      },
      "source": [
        "## 2) Prendre le dessus"
      ]
    },
    {
      "cell_type": "markdown",
      "metadata": {},
      "source": [
        "## 3) Appréhender le pire défi Python"
      ]
    }
  ],
  "metadata": {
    "colab": {
      "collapsed_sections": [
        "-Vatf6FjoOI1",
        "M-dCDr0twu_p",
        "XWzopJmxKbu0",
        "J1DBepVJvbzQ",
        "MLND-5kFqqjI"
      ],
      "name": "Défis de code Python.ipynb",
      "provenance": []
    },
    "kernelspec": {
      "display_name": "Python 3.10.4 64-bit",
      "language": "python",
      "name": "python3"
    },
    "language_info": {
      "name": "python",
      "version": "3.10.4"
    },
    "vscode": {
      "interpreter": {
        "hash": "4f946df053fbf2b937619d3c5458e7af74262f9a954d8797ba0b27400bcafe06"
      }
    }
  },
  "nbformat": 4,
  "nbformat_minor": 0
}