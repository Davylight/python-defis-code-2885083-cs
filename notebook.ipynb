{
  "cells": [
    {
      "cell_type": "markdown",
      "metadata": {
        "id": "MbZyA61s9QD4"
      },
      "source": [
        "# Réfléchir et résoudre : \"Growth and Learning\""
      ]
    },
    {
      "cell_type": "markdown",
      "metadata": {
        "id": "U1wq0qXQ6LLj"
      },
      "source": [
        "# Combattre la routine : \"Fighting Each Other\""
      ]
    },
    {
      "cell_type": "markdown",
      "metadata": {
        "id": "Z4DaiAa46w8L"
      },
      "source": [
        "# Intégrer l'existant : \"Live Organ Transplants\""
      ]
    },
    {
      "cell_type": "markdown",
      "metadata": {
        "id": "ZXpDQr_g7JT7"
      },
      "source": [
        "# Éprouver votre endurance : \"The Autumn Years\""
      ]
    },
    {
      "cell_type": "markdown",
      "metadata": {
        "id": "VKJUGrd3BGv_"
      },
      "source": [
        "## 1) Dépouiller les votes"
      ]
    },
    {
      "cell_type": "markdown",
      "metadata": {
        "id": "8-zJFN0PxnKs"
      },
      "source": [
        "### Défi"
      ]
    },
    {
      "cell_type": "code",
      "execution_count": null,
      "metadata": {
        "colab": {
          "base_uri": "https://localhost:8080/"
        },
        "id": "zNZyK4OsxpEN",
        "outputId": "dbddf858-60e4-405a-ff0c-205fc55ff583"
      },
      "outputs": [],
      "source": [
        "def tri_votes(votes):\n",
        "  '''\n",
        "  >>> tri_votes([])\n",
        "  []\n",
        "  >>> tri_votes([1, 0])\n",
        "  [0, 1]\n",
        "  >>> tri_votes([2, 1])\n",
        "  [1, 2]\n",
        "  >>> tri_votes([0, 0, 0])\n",
        "  [0, 0, 0]\n",
        "  >>> tri_votes([1, 1, 1])\n",
        "  [1, 1, 1]\n",
        "  >>> tri_votes([2, 2, 2])\n",
        "  [2, 2, 2]\n",
        "  >>> tri_votes([1, 1, 0])\n",
        "  [0, 1, 1]\n",
        "  >>> tri_votes([2, 1, 0, 1, 0, 1, 2, 0, 1, 1, 0, 2, 2, 1, 0, 1, 1, 0])\n",
        "  [0, 0, 0, 0, 0, 0, 1, 1, 1, 1, 1, 1, 1, 1, 2, 2, 2, 2]\n",
        "  '''  \n",
        "  return votes\n",
        "\n",
        "import doctest\n",
        "doctest.run_docstring_examples(tri_votes, globals())"
      ]
    },
    {
      "cell_type": "markdown",
      "metadata": {
        "id": "cVC2xc_LxpTk"
      },
      "source": [
        "### Solution"
      ]
    },
    {
      "cell_type": "code",
      "metadata": {
        "id": "ODxzHvvtxrCM"
      },
      "source": [
        "def reordonner(t, indices, val, inc):\r\n",
        "  if t[indices[1]] != val:\r\n",
        "    return False\r\n",
        "  tmp = t[indices[val]];\r\n",
        "  t[indices[val]] = t[indices[1]]\r\n",
        "  t[indices[1]] = tmp\r\n",
        "  indices[val] += inc\r\n",
        "  return True\r\n",
        "\r\n",
        "def tri_votes(votes):\r\n",
        "  '''\r\n",
        "  >>> tri_votes([])\r\n",
        "  []\r\n",
        "  >>> tri_votes([1, 0])\r\n",
        "  [0, 1]\r\n",
        "  >>> tri_votes([2, 1])\r\n",
        "  [1, 2]\r\n",
        "  >>> tri_votes([0, 0, 0])\r\n",
        "  [0, 0, 0]\r\n",
        "  >>> tri_votes([1, 1, 1])\r\n",
        "  [1, 1, 1]\r\n",
        "  >>> tri_votes([2, 2, 2])\r\n",
        "  [2, 2, 2]\r\n",
        "  >>> tri_votes([1, 1, 0])\r\n",
        "  [0, 1, 1]\r\n",
        "  >>> tri_votes([2, 1, 0, 1, 0, 1, 2, 0, 1, 1, 0, 2, 2, 1, 0, 1, 1, 0])\r\n",
        "  [0, 0, 0, 0, 0, 0, 1, 1, 1, 1, 1, 1, 1, 1, 2, 2, 2, 2]\r\n",
        "  '''  \r\n",
        "  indices=[0, 0, len(votes)-1]\r\n",
        "  while indices[1] <= indices[2]:\r\n",
        "    if not reordonner(votes, indices, 2, -1):\r\n",
        "      reordonner(votes, indices, 0, +1)\r\n",
        "      indices[1]+=1\r\n",
        "  return votes\r\n",
        "\r\n",
        "import doctest\r\n",
        "doctest.run_docstring_examples(tri_votes, globals())"
      ],
      "execution_count": null,
      "outputs": []
    },
    {
      "cell_type": "markdown",
      "metadata": {
        "id": "SA0rIZ70Hvoe"
      },
      "source": [
        "## 2) Prendre le dessus"
      ]
    },
    {
      "cell_type": "markdown",
      "metadata": {},
      "source": [
        "## 3) Appréhender le pire défi Python"
      ]
    }
  ],
  "metadata": {
    "colab": {
      "collapsed_sections": [
        "-Vatf6FjoOI1",
        "M-dCDr0twu_p",
        "XWzopJmxKbu0",
        "J1DBepVJvbzQ",
        "MLND-5kFqqjI"
      ],
      "name": "Défis de code Python.ipynb",
      "provenance": []
    },
    "kernelspec": {
      "display_name": "Python 3.10.4 64-bit",
      "language": "python",
      "name": "python3"
    },
    "language_info": {
      "name": "python",
      "version": "3.10.4"
    },
    "vscode": {
      "interpreter": {
        "hash": "4f946df053fbf2b937619d3c5458e7af74262f9a954d8797ba0b27400bcafe06"
      }
    }
  },
  "nbformat": 4,
  "nbformat_minor": 0
}
