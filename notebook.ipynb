{
  "cells": [
    {
      "cell_type": "markdown",
      "metadata": {
        "id": "MbZyA61s9QD4"
      },
      "source": [
        "# Réfléchir et résoudre : \"Growth and Learning\""
      ]
    },
    {
      "cell_type": "markdown",
      "metadata": {
        "id": "U1wq0qXQ6LLj"
      },
      "source": [
        "# Combattre la routine : \"Fighting Each Other\""
      ]
    },
    {
      "cell_type": "markdown",
      "metadata": {
        "id": "Z4DaiAa46w8L"
      },
      "source": [
        "# Intégrer l'existant : \"Live Organ Transplants\""
      ]
    },
    {
      "cell_type": "markdown",
      "metadata": {},
      "source": [
        "## 1) Réparer la machine qui fait \\\"Bing\\\""
      ]
    },
    {
      "cell_type": "markdown",
      "metadata": {
        "id": "NajPU3UNqjyn"
      },
      "source": [
        "## 2) Soigner ses arguments"
      ]
    },
    {
      "cell_type": "markdown",
      "metadata": {
        "id": "C_A9NUajxbw3"
      },
      "source": [
        "### Défi"
      ]
    },
    {
      "cell_type": "code",
      "metadata": {
        "id": "EJzMISVXLCrX",
        "colab": {
          "base_uri": "https://localhost:8080/"
        },
        "outputId": "e3936f0b-737a-490d-a7e2-bebdf5a5e972"
      },
      "source": [
        "ref = { \r\n",
        "  \"a\": [ \"autorite\"    , 0, \"Les experts sont unanimes.\", \"Il y a des voix dissonantes.\" ],\r\n",
        "  \"b\": [ \"bonnefoi\"    , 0, \"Nous avons toujours été guidés par le désir de bien faire.\", \"L'enfer est pavé de bonnes intentions.\" ],\r\n",
        "  \"c\": [ \"comparaison\" , 2, \"Si c'est valable pour {0}, rien n'empêche de le considérer pour {1}.\", \"Comparaison n'est pas raison ! On ne peut assimiler {0} et {1}.\" ],\r\n",
        "  \"d\": [ \"definition\"  , 2, \"{0} c'est d'abord {1}.\", \"{0} c'est bien autre chose.\" ],\r\n",
        "  \"e\": [ \"extreme\"     , 1, \"Et pourquoi pas {0}, tant que vous y êtes !.\", \"Inutile d'exagérer !.\" ],\r\n",
        "  \"f\": [ \"afortiori\"   , 2, \"Si c'est valable pour {0} ça l'est à plus forte raison aussi pour {1}.\", \"Oui, mais il y a des solutions plus adaptées.\" ],\r\n",
        "  \"g\": [ \"gaspi\"       , 1, \"Ça fera économiser beaucoup de {0}.\", \"Il y a d'autres moyens d'en économiser.\" ],\r\n",
        "  \"h\": [ \"adhominem\"   , 2, \"Vous prônez {0} mais ça ne vous empêche pas de {1}.\", \"Il y a des choses qui ont plus d'impact sur {0}.\" ],\r\n",
        "  \"i\": [ \"incompatible\", 1, \"On ne peut comprendre que si l'on est {0}.\", \"Cela peut aussi faire perdre son objectivité.\" ],\r\n",
        "  \"j\": [ \"justice\"     , 0, \"On ne peut faire aucune exception.\", \"Il le faut, les conditions de départ sont différentes.\" ],\r\n",
        "  \"l\": [ \"alternative\" , 2, \"Il faut choisir : soit {0}, soit {1}.\", \"Le monde n'est pas tout blanc ou tout noir, une troisième piste est envisageable.\" ],\r\n",
        "  \"m\": [ \"forcemajeur\" , 0, \"Il n'y a aucune autre méthode éprouvée.\", \"Tout n'a pas encore été essayé.\" ],\r\n",
        "  \"n\": [ \"narration\"   , 1, \"Vous connaissez {0}, vous vous rappelez comment ça se termine.\", \"Ici, c'est la vraie vie, pas une fiction.\" ], \r\n",
        "  \"o\": [ \"opportunité\" , 0, \"C'est vraiment le bon moment, toutes les conditions sont réunies.\", \"Il ne faut pas confondre vitesse et précipitation.\" ],\r\n",
        "  \"p\": [ \"adpersonam\"  , 0, \"Vous êtes mal placé pour dire ça.\", \"Au contraire, je suis plus que légitime.\" ],\r\n",
        "  \"q\": [ \"quantité\"    , 0, \"C'est ce que demande la majorité.\", \"On est toujours minoritaire quand on ouvre la voie.\" ],\r\n",
        "  \"r\": [ \"reciprocité\" , 2, \"On ne peut {0} d'un côté sans {1} de l'autre.\", \"On peut tout à fait, il y bien d'autres effets bénéfiques.\" ], \r\n",
        "  \"s\": [ \"sacrifice\"   , 0, \"Ça a demander un effort considérable.\", \"Ne fallait-il pas vérifier avant si le jeu en valait vraiment la chandelle.\" ]\r\n",
        "}\r\n",
        "# prog --adhominem \"l'économie d'énergie/rouler en 4x4\" -ic \"sur le terrain\" \"les smartphones/les ordinateurs\"\r\n",
        "argv = [\r\n",
        "    \"--adhominem\", \"l'économie d'énergie/rouler en 4x4\",\r\n",
        "    \"-ic\", \"sur le terrain\", \"les smartphones/les ordinateurs\"\r\n",
        "]\r\n",
        "\r\n",
        "# Affichage attendu :\r\n",
        "# Vous prônez l'économie d'énergie mais ça ne vous empêche pas de rouler en 4x4.\r\n",
        "# Il y a des choses qui ont plus d'impact sur l'économie d'énergie.\r\n",
        "\r\n",
        "# On ne peut comprendre que si l'on est sur le terrain.\r\n",
        "# Cela peut aussi faire perdre son objectivité.\r\n",
        "\r\n",
        "# Si c'est valable pour les smartphones, rien n'empêche de le considérer pour les ordinateurs.\r\n",
        "# Comparaison n'est pas raison ! On ne peut assimiler les smartphones et les ordinateurs.\r\n",
        "\r\n",
        "def usage():\r\n",
        "  print(\"Usage: prog -x [arguments]\")\r\n",
        "  for cmd, infos in ref.items():\r\n",
        "    texte = str(infos[1]) + \" argument(s)\" if infos[1]>0 else \"aucun argument\"\r\n",
        "    print(\"-\" + cmd + \", --\" + infos[0] + \": \" + texte )\r\n",
        "\r\n",
        "usage()"
      ],
      "execution_count": null
    },
    {
      "cell_type": "markdown",
      "metadata": {
        "id": "MLND-5kFqqjI"
      },
      "source": [
        "## 3) Cerner la souris et son problème"
      ]
    },
    {
      "cell_type": "markdown",
      "metadata": {
        "id": "ZXpDQr_g7JT7"
      },
      "source": [
        "# Éprouver votre endurance : \"The Autumn Years\""
      ]
    },
    {
      "cell_type": "markdown",
      "metadata": {
        "id": "VKJUGrd3BGv_"
      },
      "source": [
        "## 1) Dépouiller les votes"
      ]
    },
    {
      "cell_type": "markdown",
      "metadata": {
        "id": "SA0rIZ70Hvoe"
      },
      "source": [
        "## 2) Prendre le dessus"
      ]
    },
    {
      "cell_type": "markdown",
      "metadata": {},
      "source": [
        "## 3) Appréhender le pire défi Python"
      ]
    }
  ],
  "metadata": {
    "colab": {
      "collapsed_sections": [
        "-Vatf6FjoOI1",
        "M-dCDr0twu_p",
        "XWzopJmxKbu0",
        "J1DBepVJvbzQ",
        "MLND-5kFqqjI"
      ],
      "name": "Défis de code Python.ipynb",
      "provenance": []
    },
    "kernelspec": {
      "display_name": "Python 3.10.4 64-bit",
      "language": "python",
      "name": "python3"
    },
    "language_info": {
      "name": "python",
      "version": "3.10.4"
    },
    "vscode": {
      "interpreter": {
        "hash": "4f946df053fbf2b937619d3c5458e7af74262f9a954d8797ba0b27400bcafe06"
      }
    }
  },
  "nbformat": 4,
  "nbformat_minor": 0
}